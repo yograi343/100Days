{
  "nbformat": 4,
  "nbformat_minor": 0,
  "metadata": {
    "colab": {
      "provenance": [],
      "authorship_tag": "ABX9TyN0cPeemYEaP9A37Zmks33f"
    },
    "kernelspec": {
      "name": "python3",
      "display_name": "Python 3"
    },
    "language_info": {
      "name": "python"
    }
  },
  "cells": [
    {
      "cell_type": "markdown",
      "source": [
        "# Python Decorators\n",
        "\n",
        "In Python, a decorator is a design pattern that allows you to modify the functionality of a function by wrapping it in another function."
      ],
      "metadata": {
        "id": "QEpQDriXoRM0"
      }
    },
    {
      "cell_type": "markdown",
      "source": [
        "## Nested function"
      ],
      "metadata": {
        "id": "GJSBVuZNohIn"
      }
    },
    {
      "cell_type": "code",
      "source": [
        "def outer(x):\n",
        "  #inner function\n",
        "  def inner(y):\n",
        "    return x+y\n",
        "  return inner\n",
        "add_five = outer(5)\n",
        "result =add_five(7)\n",
        "print(result)\n"
      ],
      "metadata": {
        "colab": {
          "base_uri": "https://localhost:8080/"
        },
        "id": "5OS8MuBRop9G",
        "outputId": "852cd924-37d8-4755-ccd2-3817c11bd599"
      },
      "execution_count": 3,
      "outputs": [
        {
          "output_type": "stream",
          "name": "stdout",
          "text": [
            "12\n"
          ]
        }
      ]
    },
    {
      "cell_type": "markdown",
      "source": [
        "## Pass function as Argument"
      ],
      "metadata": {
        "id": "LrfRCfe-oqJt"
      }
    },
    {
      "cell_type": "code",
      "source": [
        "def add(x,y):\n",
        "  return x+y\n",
        "\n",
        "def calculate(func,x,y):\n",
        "  return func(x,y)\n",
        "\n",
        "result = calculate(add,4,6)\n",
        "print(result)"
      ],
      "metadata": {
        "colab": {
          "base_uri": "https://localhost:8080/"
        },
        "id": "jF6a5UdRoqMN",
        "outputId": "80ba0948-0ea1-4b9d-f1d2-cb2d47bb058b"
      },
      "execution_count": 4,
      "outputs": [
        {
          "output_type": "stream",
          "name": "stdout",
          "text": [
            "10\n"
          ]
        }
      ]
    },
    {
      "cell_type": "markdown",
      "source": [
        "# Return a function as a value"
      ],
      "metadata": {
        "id": "WrrB19UPv-3Z"
      }
    },
    {
      "cell_type": "code",
      "source": [
        "def greeting(name):\n",
        "  def hello():\n",
        "    return \"Hello, \"+name+\"!\"\n",
        "  return hello\n",
        "greet = greeting('Yogesh')\n",
        "print(greet)"
      ],
      "metadata": {
        "colab": {
          "base_uri": "https://localhost:8080/"
        },
        "id": "0ql1ourwoqOt",
        "outputId": "8733c558-e12f-4230-b672-0b917bec3e4c"
      },
      "execution_count": 5,
      "outputs": [
        {
          "output_type": "stream",
          "name": "stdout",
          "text": [
            "<function greeting.<locals>.hello at 0x7b00032f3400>\n"
          ]
        }
      ]
    },
    {
      "cell_type": "markdown",
      "source": [
        "## Python Decorators\n",
        "As mentioned earlier, A Python decorator is a function that takes in a function and returns it by adding some functionality.\n",
        "\n",
        "In fact, any object which implements the special __call__() method is termed callable. So, in the most basic sense, a decorator is a callable that returns a callable."
      ],
      "metadata": {
        "id": "8dTab2ukoqRN"
      }
    },
    {
      "cell_type": "code",
      "source": [
        "def make_pretty(func):\n",
        "  def inner():\n",
        "    print('I got decorated')\n",
        "    func()\n",
        "  return inner\n",
        "\n",
        "@make_pretty\n",
        "def ordinar():\n",
        "  print('I am ordinary')\n",
        "\n",
        "ordinar()"
      ],
      "metadata": {
        "colab": {
          "base_uri": "https://localhost:8080/"
        },
        "id": "bjTTrlckoqT1",
        "outputId": "0d54593c-d5b8-4b84-8fdc-980e569d3ea6"
      },
      "execution_count": 6,
      "outputs": [
        {
          "output_type": "stream",
          "name": "stdout",
          "text": [
            "I got decorated\n",
            "I am ordinary\n"
          ]
        }
      ]
    },
    {
      "cell_type": "markdown",
      "source": [
        "## Decorating Functions with Parameters"
      ],
      "metadata": {
        "id": "UVDE7wMJoqWa"
      }
    },
    {
      "cell_type": "code",
      "source": [
        "def smart_divide(funct):\n",
        "  def inner(a,b):\n",
        "    print('I am going to divide ',a,' and ',b )\n",
        "    if(b==0):\n",
        "      print('Whoops! cannot divide')\n",
        "      return\n",
        "    return funct(a,b)\n",
        "  return inner\n",
        "\n",
        "@smart_divide\n",
        "def divide(a,b):\n",
        "  return a/b\n",
        "\n",
        "print(divide(1,2))\n",
        "print(divide(4,0))\n"
      ],
      "metadata": {
        "colab": {
          "base_uri": "https://localhost:8080/"
        },
        "id": "3h9ze6FboqY1",
        "outputId": "8e363b3b-55f1-4016-ba98-31a615644975"
      },
      "execution_count": 13,
      "outputs": [
        {
          "output_type": "stream",
          "name": "stdout",
          "text": [
            "I am going to divide  1  and  2\n",
            "0.5\n",
            "I am going to divide  4  and  0\n",
            "Whoops! cannot divide\n",
            "None\n"
          ]
        }
      ]
    },
    {
      "cell_type": "markdown",
      "source": [
        "## Chaining Decorators in Python"
      ],
      "metadata": {
        "id": "e2e2q-7JoqbW"
      }
    },
    {
      "cell_type": "code",
      "source": [
        "def star(func):\n",
        "  def inner(*args,**kwargs):\n",
        "    print('*'*15)\n",
        "    func(*args,**kwargs)\n",
        "    print('*'*15)\n",
        "  return inner\n",
        "\n",
        "def percent(func):\n",
        "  def inner(*args,**kwargs):\n",
        "    print('%'*15)\n",
        "    func(*args,**kwargs)\n",
        "    print('%'*15)\n",
        "  return inner\n",
        "\n",
        "@star\n",
        "@percent\n",
        "def printer(msg):\n",
        "  print(msg)\n",
        "\n",
        "printer('Damn thats some hard shit')\n"
      ],
      "metadata": {
        "colab": {
          "base_uri": "https://localhost:8080/"
        },
        "id": "m9xD0JxOoqd2",
        "outputId": "f75f7560-ddd5-440d-c565-d4b6804b6b26"
      },
      "execution_count": 14,
      "outputs": [
        {
          "output_type": "stream",
          "name": "stdout",
          "text": [
            "***************\n",
            "%%%%%%%%%%%%%%%\n",
            "Damn thats some hard shit\n",
            "%%%%%%%%%%%%%%%\n",
            "***************\n"
          ]
        }
      ]
    },
    {
      "cell_type": "code",
      "source": [],
      "metadata": {
        "id": "VNk0lluuoqgV"
      },
      "execution_count": null,
      "outputs": []
    },
    {
      "cell_type": "code",
      "source": [],
      "metadata": {
        "id": "M6mkvXzC-Ocj"
      },
      "execution_count": null,
      "outputs": []
    },
    {
      "cell_type": "code",
      "source": [],
      "metadata": {
        "id": "fyCi_0f6-OZr"
      },
      "execution_count": null,
      "outputs": []
    },
    {
      "cell_type": "code",
      "source": [],
      "metadata": {
        "id": "-74DcNbA-OWm"
      },
      "execution_count": null,
      "outputs": []
    },
    {
      "cell_type": "code",
      "source": [],
      "metadata": {
        "id": "Q7-ECDYg-OTW"
      },
      "execution_count": null,
      "outputs": []
    },
    {
      "cell_type": "code",
      "source": [],
      "metadata": {
        "id": "4OF-Or9a-OQY"
      },
      "execution_count": null,
      "outputs": []
    },
    {
      "cell_type": "code",
      "source": [],
      "metadata": {
        "id": "xK9RcYmG-OMw"
      },
      "execution_count": null,
      "outputs": []
    },
    {
      "cell_type": "code",
      "source": [],
      "metadata": {
        "id": "BSkHrejz-OJR"
      },
      "execution_count": null,
      "outputs": []
    },
    {
      "cell_type": "code",
      "source": [],
      "metadata": {
        "id": "iHGRZ3Ua-OGG"
      },
      "execution_count": null,
      "outputs": []
    },
    {
      "cell_type": "code",
      "source": [],
      "metadata": {
        "id": "00ZAGi6W-OB8"
      },
      "execution_count": null,
      "outputs": []
    },
    {
      "cell_type": "code",
      "source": [],
      "metadata": {
        "id": "msHShsGA-N-u"
      },
      "execution_count": null,
      "outputs": []
    },
    {
      "cell_type": "code",
      "source": [],
      "metadata": {
        "id": "6-bnApOu-Nzk"
      },
      "execution_count": null,
      "outputs": []
    },
    {
      "cell_type": "code",
      "source": [],
      "metadata": {
        "id": "v0lMYBsa-Nwm"
      },
      "execution_count": null,
      "outputs": []
    },
    {
      "cell_type": "code",
      "source": [],
      "metadata": {
        "id": "goBO43HY-Nth"
      },
      "execution_count": null,
      "outputs": []
    }
  ]
}