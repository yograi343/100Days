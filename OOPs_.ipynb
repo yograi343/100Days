{
  "nbformat": 4,
  "nbformat_minor": 0,
  "metadata": {
    "colab": {
      "provenance": [],
      "authorship_tag": "ABX9TyPPnTAOX3iOL3GXAQslhk5v",
      "include_colab_link": true
    },
    "kernelspec": {
      "name": "python3",
      "display_name": "Python 3"
    },
    "language_info": {
      "name": "python"
    }
  },
  "cells": [
    {
      "cell_type": "markdown",
      "metadata": {
        "id": "view-in-github",
        "colab_type": "text"
      },
      "source": [
        "<a href=\"https://colab.research.google.com/github/yograi343/100Days/blob/main/OOPs_.ipynb\" target=\"_parent\"><img src=\"https://colab.research.google.com/assets/colab-badge.svg\" alt=\"Open In Colab\"/></a>"
      ]
    },
    {
      "cell_type": "markdown",
      "source": [
        "## 1. Python OOP Tutorial: Classes and Instances"
      ],
      "metadata": {
        "id": "6OE8W5NDNJtk"
      }
    },
    {
      "cell_type": "code",
      "source": [
        "#class is the blueprint of any object that we want to create\n",
        "class Employee:\n",
        "  raise_amount =1.04\n",
        "  num_of_emps=0\n",
        "  def __init__(self,first,last,pay):\n",
        "    self.first = first\n",
        "    self.last = last\n",
        "    self.pay = pay\n",
        "    self.email = first+'.'+last+'@company.com'\n",
        "\n",
        "    Employee.num_of_emps +=1 #here I am using Employee as it will be on a the class level that a single object can't change\n",
        "\n",
        "  def fullname(self):\n",
        "    return '{} {}'.format(self.first,self.last)\n",
        "\n",
        "  def apply_raise(self):\n",
        "    self.pay = int(self.pay*self.raise_amount)## using self will allow to costomise values on individual object level\n",
        "\n",
        "emp_1 = Employee('Yogesh','Rai',40000)\n",
        "emp_2 = Employee('Test','user',42354)\n",
        "\n",
        "# print(emp_1)\n",
        "# print(emp_2)\n",
        "\n",
        "# emp_1.first='Yogesh'\n",
        "# emp_1.last = 'Rai'\n",
        "# emp_1.email = 'yogesh.rai@company.com'\n",
        "# emp_1.pay = 300000\n",
        "\n",
        "# emp_2.first = 'Test'\n",
        "# emp_2.last= 'User'\n",
        "# emp_2.email ='test@user.com'\n",
        "# emp_2.pay =2334\n",
        "\n",
        "print(emp_1.email)\n",
        "print(emp_2.email)\n"
      ],
      "metadata": {
        "colab": {
          "base_uri": "https://localhost:8080/"
        },
        "id": "wI9QYSNDNcJj",
        "outputId": "22150fa6-551b-43d4-9b5c-531c02f601a1"
      },
      "execution_count": 18,
      "outputs": [
        {
          "output_type": "stream",
          "name": "stdout",
          "text": [
            "Yogesh.Rai@company.com\n",
            "Test.user@company.com\n"
          ]
        }
      ]
    },
    {
      "cell_type": "code",
      "source": [
        "#full name\n",
        "print('{} {}'.format(emp_1.first,emp_1.last))"
      ],
      "metadata": {
        "colab": {
          "base_uri": "https://localhost:8080/"
        },
        "id": "OB3AGI8cNcDJ",
        "outputId": "bb5ae7da-e97a-4f46-aeeb-76e3d89bd0dd"
      },
      "execution_count": 3,
      "outputs": [
        {
          "output_type": "stream",
          "name": "stdout",
          "text": [
            "Yogesh Rai\n"
          ]
        }
      ]
    },
    {
      "cell_type": "code",
      "source": [
        "#full name using the method of the class\n",
        "print(emp_1.fullname())\n",
        "print(Employee.fullname(emp_1))"
      ],
      "metadata": {
        "colab": {
          "base_uri": "https://localhost:8080/"
        },
        "id": "xktxW8RsNcAZ",
        "outputId": "621f96f2-f611-447a-a52a-c88a81a707da"
      },
      "execution_count": 9,
      "outputs": [
        {
          "output_type": "stream",
          "name": "stdout",
          "text": [
            "Yogesh Rai\n",
            "Yogesh Rai\n"
          ]
        }
      ]
    },
    {
      "cell_type": "code",
      "source": [
        "# lets raise the pay\n",
        "print(emp_1.pay)\n",
        "emp_1.apply_raise()\n",
        "print(emp_1.pay)"
      ],
      "metadata": {
        "id": "5o9Uvz4INb92"
      },
      "execution_count": null,
      "outputs": []
    },
    {
      "cell_type": "code",
      "source": [
        "print(Employee.raise_amount)\n",
        "print(emp_1.raise_amount)\n",
        "print(emp_1.raise_amount)"
      ],
      "metadata": {
        "colab": {
          "base_uri": "https://localhost:8080/"
        },
        "id": "vt-BIo-qVUeQ",
        "outputId": "8e837197-46e8-4bfd-af7d-5c691da22200"
      },
      "execution_count": 12,
      "outputs": [
        {
          "output_type": "stream",
          "name": "stdout",
          "text": [
            "1.04\n",
            "1.04\n",
            "1.04\n"
          ]
        }
      ]
    },
    {
      "cell_type": "code",
      "source": [
        "print(emp_1.__dict__)"
      ],
      "metadata": {
        "colab": {
          "base_uri": "https://localhost:8080/"
        },
        "id": "6MGZZgS-VUbp",
        "outputId": "5dc5e8b1-e844-41db-fe65-87c7c29af0a0"
      },
      "execution_count": 13,
      "outputs": [
        {
          "output_type": "stream",
          "name": "stdout",
          "text": [
            "{'first': 'Yogesh', 'last': 'Rai', 'pay': 40000, 'email': 'Yogesh.Rai@company.com'}\n"
          ]
        }
      ]
    },
    {
      "cell_type": "code",
      "source": [
        "print(Employee.__dict__)"
      ],
      "metadata": {
        "colab": {
          "base_uri": "https://localhost:8080/"
        },
        "id": "tHz-O-IaVUZE",
        "outputId": "f2b2ff68-694f-46b8-f61c-aa53804f9890"
      },
      "execution_count": 14,
      "outputs": [
        {
          "output_type": "stream",
          "name": "stdout",
          "text": [
            "{'__module__': '__main__', 'raise_amount': 1.04, '__init__': <function Employee.__init__ at 0x7ce805833a30>, 'fullname': <function Employee.fullname at 0x7ce805833910>, 'apply_raise': <function Employee.apply_raise at 0x7ce805832c20>, '__dict__': <attribute '__dict__' of 'Employee' objects>, '__weakref__': <attribute '__weakref__' of 'Employee' objects>, '__doc__': None}\n"
          ]
        }
      ]
    },
    {
      "cell_type": "code",
      "source": [
        "Employee.raise_amount = 1.05\n",
        "emp_1.raise_amount = 1.06\n",
        "\n",
        "print(Employee.raise_amount)\n",
        "print(emp_1.raise_amount)\n",
        "print(emp_2.raise_amount)"
      ],
      "metadata": {
        "colab": {
          "base_uri": "https://localhost:8080/"
        },
        "id": "LKboi3CQVUWL",
        "outputId": "20a770ef-b2e1-447b-db43-b0a0879a77d1"
      },
      "execution_count": 15,
      "outputs": [
        {
          "output_type": "stream",
          "name": "stdout",
          "text": [
            "1.05\n",
            "1.06\n",
            "1.05\n"
          ]
        }
      ]
    },
    {
      "cell_type": "code",
      "source": [
        "# check the number of employees\n",
        "print(Employee.num_of_emps)"
      ],
      "metadata": {
        "colab": {
          "base_uri": "https://localhost:8080/"
        },
        "id": "W_mhYLRbVUTH",
        "outputId": "37c8081d-11b2-4228-da9f-2b053b728c08"
      },
      "execution_count": 19,
      "outputs": [
        {
          "output_type": "stream",
          "name": "stdout",
          "text": [
            "2\n"
          ]
        }
      ]
    },
    {
      "cell_type": "code",
      "source": [
        "# this num_of_emps shouldn't be unaccesible but it is able to get changed this behaviour needs to change\n",
        "Employee.num_of_emps = 1\n",
        "print(Employee.num_of_emps)"
      ],
      "metadata": {
        "colab": {
          "base_uri": "https://localhost:8080/"
        },
        "id": "gaVg_LkcNb7G",
        "outputId": "b40f326a-2d87-461b-8bb6-7485dd7e0100"
      },
      "execution_count": 22,
      "outputs": [
        {
          "output_type": "stream",
          "name": "stdout",
          "text": [
            "1\n"
          ]
        }
      ]
    },
    {
      "cell_type": "markdown",
      "source": [
        "## Varible in Class\n",
        "* **Instance Variable** : Variable which are defined inside __init__ function and this variable is unique to each instance\n",
        "\n",
        "* **Class Variable** : Variable which are shared by all the instance are callled class variable\n",
        "\n",
        "`class Car:\n",
        "        #Class variable\n",
        "        wheels = 4  # All cars have 4 wheels\n",
        "\n",
        "        def __init__(self, make, model):\n",
        "          # Instance variables\n",
        "          self.make = make\n",
        "          self.model = model `"
      ],
      "metadata": {
        "id": "thN8-XNVa3-m"
      }
    },
    {
      "cell_type": "markdown",
      "source": [
        "## 2. Classmethods & static methods\n",
        "\n",
        "* **Class Methods:** As the name suggest class method are the methods that are bound to class itself rather than to an instance of the class. It takes the class (cls) as its first argument instead of an instance (*self*). class methods are defined using @classmethod decorator\n",
        "\n",
        "* **Static Methods:** Static Mehods are nor bound to class and nor to the instance of the class. It is used more like a utility function which doesnot require to access class variable or instance variable for its computation. It does not take *self* or *cls* as its first argument. It is defined using decorator @staticmethod"
      ],
      "metadata": {
        "id": "d6UPK2KKa37_"
      }
    },
    {
      "cell_type": "code",
      "source": [
        "class Employee:\n",
        "  raise_amount =1.04\n",
        "  num_of_emps=0\n",
        "  instances = []\n",
        "  def __init__(self,first,last,pay):\n",
        "    self.first = first\n",
        "    self.last = last\n",
        "    self.pay = pay\n",
        "    self.email = first+'.'+last+'@company.com'\n",
        "    self.instances.append(self)\n",
        "\n",
        "    Employee.num_of_emps +=1 #here I am using Employee as it will be on a the class level that a single object can't change\n",
        "\n",
        "  def fullname(self):\n",
        "    return '{} {}'.format(self.first,self.last)\n",
        "\n",
        "  def apply_raise(self):\n",
        "    self.pay = int(self.pay*self.raise_amount)\n",
        "\n",
        "  @classmethod\n",
        "  def set_raise_amt(cls,amount):\n",
        "    cls.raise_amount=amount\n",
        "  # additional constructor\n",
        "  @classmethod\n",
        "  def from_string(cls,emp_str):\n",
        "    first,last,pay = emp_str.split('-')\n",
        "    return cls(first,last,pay)\n",
        "\n",
        "  # This is not required to fetch instance variable or any object variable for compute\n",
        "  # It is more like utility functions\n",
        "  @staticmethod\n",
        "  def is_workday(day):\n",
        "    if day.weekday() ==5 or day.weekday() ==6:\n",
        "      return False\n",
        "    return True\n",
        "#create instances of the class employee\n",
        "emp_1 = Employee('Yogesh','Rai',40000)\n",
        "emp_2 = Employee('Test','user',42354)"
      ],
      "metadata": {
        "id": "285fSqCYa35X"
      },
      "execution_count": 59,
      "outputs": []
    },
    {
      "cell_type": "code",
      "source": [
        "import datetime\n",
        "my_date = datetime.date(2024,1,3)\n",
        "print(Employee.is_workday(my_date))"
      ],
      "metadata": {
        "colab": {
          "base_uri": "https://localhost:8080/"
        },
        "id": "jifl2zTCqEZL",
        "outputId": "75894681-a3b6-4fc0-9eea-50b899d46d61"
      },
      "execution_count": 60,
      "outputs": [
        {
          "output_type": "stream",
          "name": "stdout",
          "text": [
            "True\n"
          ]
        }
      ]
    },
    {
      "cell_type": "code",
      "source": [
        "Employee.set_raise_amt(1.07)\n",
        "print(emp_1.raise_amount)\n",
        "print(emp_2.raise_amount)\n",
        "print(Employee.raise_amount)"
      ],
      "metadata": {
        "colab": {
          "base_uri": "https://localhost:8080/"
        },
        "id": "TGPqf9Swa32h",
        "outputId": "c2cef9e5-f8b6-4f75-db26-e874d98258c8"
      },
      "execution_count": 30,
      "outputs": [
        {
          "output_type": "stream",
          "name": "stdout",
          "text": [
            "1.07\n",
            "1.07\n",
            "1.07\n"
          ]
        }
      ]
    },
    {
      "cell_type": "code",
      "source": [
        "emp_1.raise_amount=1.04\n",
        "print(emp_1.raise_amount)"
      ],
      "metadata": {
        "colab": {
          "base_uri": "https://localhost:8080/"
        },
        "id": "N8qUcj07a3zo",
        "outputId": "3c877fea-96b4-470a-afb2-14014cf554f4"
      },
      "execution_count": 31,
      "outputs": [
        {
          "output_type": "stream",
          "name": "stdout",
          "text": [
            "1.04\n"
          ]
        }
      ]
    },
    {
      "cell_type": "code",
      "source": [
        "emp_str_1 = 'John-Doe-39000'\n",
        "emp_str_2 = 'Steve-Smith-32000'\n",
        "emp_str_3 = 'Raj-Kumar-89000'"
      ],
      "metadata": {
        "id": "dXzYn63Ua3rz"
      },
      "execution_count": 34,
      "outputs": []
    },
    {
      "cell_type": "code",
      "source": [
        "first,last,pay = emp_str_1.split('-')\n",
        "new_emp_1 = Employee(first,last,pay)\n",
        "new_emp_2 = Employee.from_string(emp_str_2)\n",
        "new_emp_3 =Employee.from_string(emp_str_3)\n",
        "\n",
        "print(new_emp_1.first)\n",
        "print(new_emp_2.first)\n",
        "print(new_emp_3.first)"
      ],
      "metadata": {
        "colab": {
          "base_uri": "https://localhost:8080/"
        },
        "id": "CiMr_D2Cgenl",
        "outputId": "0d123fdc-4dc4-457f-831f-26910c21a620"
      },
      "execution_count": 55,
      "outputs": [
        {
          "output_type": "stream",
          "name": "stdout",
          "text": [
            "John\n",
            "Steve\n",
            "Raj\n"
          ]
        }
      ]
    },
    {
      "cell_type": "code",
      "source": [
        "Employee.num_of_emps"
      ],
      "metadata": {
        "colab": {
          "base_uri": "https://localhost:8080/"
        },
        "id": "pepKbp0Pgecb",
        "outputId": "fa45980b-1901-47f1-83e9-973d37c0778b"
      },
      "execution_count": 56,
      "outputs": [
        {
          "output_type": "execute_result",
          "data": {
            "text/plain": [
              "5"
            ]
          },
          "metadata": {},
          "execution_count": 56
        }
      ]
    },
    {
      "cell_type": "code",
      "source": [
        "for instance in Employee.instances:\n",
        "  print(instance.first)"
      ],
      "metadata": {
        "colab": {
          "base_uri": "https://localhost:8080/"
        },
        "id": "e3xq1LW4kYxH",
        "outputId": "193b1a5d-f2d5-44d8-d9c9-5002482b9f42"
      },
      "execution_count": 58,
      "outputs": [
        {
          "output_type": "stream",
          "name": "stdout",
          "text": [
            "Yogesh\n",
            "Test\n",
            "John\n",
            "Steve\n",
            "Raj\n"
          ]
        }
      ]
    },
    {
      "cell_type": "markdown",
      "source": [
        "## 3. Inheritance and Subclasses\n",
        "**super()** super allows to access the methods of superclass from subclass that inherits from it."
      ],
      "metadata": {
        "id": "Yk6801PcpjhC"
      }
    },
    {
      "cell_type": "code",
      "source": [
        "class Employee:\n",
        "  raise_amount =1.04\n",
        "\n",
        "  def __init__(self,first,last,pay):\n",
        "    self.first = first\n",
        "    self.last = last\n",
        "    self.pay = pay\n",
        "    self.email = first+'.'+last+'@company.com'\n",
        "\n",
        "  def fullname(self):\n",
        "    return '{} {}'.format(self.first,self.last)\n",
        "\n",
        "  def apply_raise(self):\n",
        "    self.pay = int(self.pay*self.raise_amount)"
      ],
      "metadata": {
        "id": "vVh_V7tmpjeI"
      },
      "execution_count": 73,
      "outputs": []
    },
    {
      "cell_type": "code",
      "source": [
        "class Developer(Employee):\n",
        "  # this will not gonna impact the parent class\n",
        "  raise_amount=1.1\n",
        "\n",
        "  #defining init function\n",
        "  def __init__(self,first,last,pay,prog_lang):\n",
        "    # this will hand first last pay will be handled by Employee\n",
        "    # you can also use Employee.__init__(first,last,pay) but super is more maintainable\n",
        "    super().__init__(first,last,pay)\n",
        "    self.prog_lang = prog_lang"
      ],
      "metadata": {
        "id": "_aHhH2g5pjbS"
      },
      "execution_count": 74,
      "outputs": []
    },
    {
      "cell_type": "code",
      "source": [
        "dev_1 = Developer('Yogesh','Rai',30000,\"Python\")\n",
        "dev_2 = Developer('Alisha','Gazmer',7000,'Java')\n",
        "\n",
        "print(dev_1.prog_lang)\n",
        "print(dev_2.prog_lang)"
      ],
      "metadata": {
        "colab": {
          "base_uri": "https://localhost:8080/"
        },
        "id": "IKbX0KlRpjYb",
        "outputId": "7108fa55-b685-44c3-8e33-24ffa13c0845"
      },
      "execution_count": 75,
      "outputs": [
        {
          "output_type": "stream",
          "name": "stdout",
          "text": [
            "Python\n",
            "Java\n"
          ]
        }
      ]
    },
    {
      "cell_type": "code",
      "source": [
        "print(help(Developer))"
      ],
      "metadata": {
        "colab": {
          "base_uri": "https://localhost:8080/"
        },
        "id": "qSxnGW6cpjVf",
        "outputId": "d68eb29c-def8-4959-8974-69a180fb6809"
      },
      "execution_count": 71,
      "outputs": [
        {
          "output_type": "stream",
          "name": "stdout",
          "text": [
            "Help on class Developer in module __main__:\n",
            "\n",
            "class Developer(Employee)\n",
            " |  Developer(first, last, pay)\n",
            " |  \n",
            " |  Method resolution order:\n",
            " |      Developer\n",
            " |      Employee\n",
            " |      builtins.object\n",
            " |  \n",
            " |  Methods inherited from Employee:\n",
            " |  \n",
            " |  __init__(self, first, last, pay)\n",
            " |      Initialize self.  See help(type(self)) for accurate signature.\n",
            " |  \n",
            " |  apply_raise(self)\n",
            " |  \n",
            " |  fullname(self)\n",
            " |  \n",
            " |  ----------------------------------------------------------------------\n",
            " |  Data descriptors inherited from Employee:\n",
            " |  \n",
            " |  __dict__\n",
            " |      dictionary for instance variables (if defined)\n",
            " |  \n",
            " |  __weakref__\n",
            " |      list of weak references to the object (if defined)\n",
            " |  \n",
            " |  ----------------------------------------------------------------------\n",
            " |  Data and other attributes inherited from Employee:\n",
            " |  \n",
            " |  raise_amount = 1.04\n",
            "\n",
            "None\n"
          ]
        }
      ]
    },
    {
      "cell_type": "code",
      "source": [
        "class Manager(Employee):\n",
        "  def __init__(self,first,last,pay,employees=None):\n",
        "    super().__init__(first,last,pay)\n",
        "    if employees is None:\n",
        "      self.employees=[]\n",
        "    else:\n",
        "      self.employees=employees\n",
        "  def add_emp(self,emp):\n",
        "    if emp not in self.employees:\n",
        "      self.employees.append(emp)\n",
        "  def remove_emp(self,emp):\n",
        "    if emp not in self.employees:\n",
        "      self.employees.remove(emp)\n",
        "  def print_emps(self):\n",
        "    for emp in self.employees:\n",
        "      print('-->',emp.fullname())"
      ],
      "metadata": {
        "id": "WkMbmCTQpjS4"
      },
      "execution_count": 78,
      "outputs": []
    },
    {
      "cell_type": "code",
      "source": [
        "mgr_1 = Manager('Sue','Smith',9000,[dev_1])"
      ],
      "metadata": {
        "id": "03YWB0JgpjQU"
      },
      "execution_count": 79,
      "outputs": []
    },
    {
      "cell_type": "code",
      "source": [
        "mgr_1.print_emps()"
      ],
      "metadata": {
        "colab": {
          "base_uri": "https://localhost:8080/"
        },
        "id": "oZUmyoRJpjNO",
        "outputId": "e709fe6a-d182-4356-cb01-29cbc40e6551"
      },
      "execution_count": 80,
      "outputs": [
        {
          "output_type": "stream",
          "name": "stdout",
          "text": [
            "--> Yogesh Rai\n"
          ]
        }
      ]
    },
    {
      "cell_type": "code",
      "source": [
        "mgr_2 = Manager('Sue','Smith',9000,[dev_2, mgr_1])\n",
        "mgr_2.print_emps()"
      ],
      "metadata": {
        "colab": {
          "base_uri": "https://localhost:8080/"
        },
        "id": "MpSTq94SpjJ2",
        "outputId": "adc03c3c-fe92-49bd-f3df-52983a4c9494"
      },
      "execution_count": 82,
      "outputs": [
        {
          "output_type": "stream",
          "name": "stdout",
          "text": [
            "--> Alisha Gazmer\n",
            "--> Sue Smith\n"
          ]
        }
      ]
    },
    {
      "cell_type": "code",
      "source": [
        "isinstance(mgr_1,Manager)"
      ],
      "metadata": {
        "colab": {
          "base_uri": "https://localhost:8080/"
        },
        "id": "1WR3lEs1HvmP",
        "outputId": "3fadbfe7-4f6e-4fe4-a1cc-8a3c656d3f42"
      },
      "execution_count": 83,
      "outputs": [
        {
          "output_type": "execute_result",
          "data": {
            "text/plain": [
              "True"
            ]
          },
          "metadata": {},
          "execution_count": 83
        }
      ]
    },
    {
      "cell_type": "code",
      "source": [
        "isinstance(mgr_1,Employee)"
      ],
      "metadata": {
        "colab": {
          "base_uri": "https://localhost:8080/"
        },
        "id": "PG9zmP5vHvhs",
        "outputId": "cc4befff-528b-401e-b1c4-4e8360a54bd4"
      },
      "execution_count": 84,
      "outputs": [
        {
          "output_type": "execute_result",
          "data": {
            "text/plain": [
              "True"
            ]
          },
          "metadata": {},
          "execution_count": 84
        }
      ]
    },
    {
      "cell_type": "code",
      "source": [
        "isinstance(mgr_1,Developer)"
      ],
      "metadata": {
        "colab": {
          "base_uri": "https://localhost:8080/"
        },
        "id": "MwA5Qu1PHvfP",
        "outputId": "84b57de6-3025-496f-9a0d-9514a4dbc57b"
      },
      "execution_count": 85,
      "outputs": [
        {
          "output_type": "execute_result",
          "data": {
            "text/plain": [
              "False"
            ]
          },
          "metadata": {},
          "execution_count": 85
        }
      ]
    },
    {
      "cell_type": "code",
      "source": [
        "issubclass(Manager,Developer)"
      ],
      "metadata": {
        "colab": {
          "base_uri": "https://localhost:8080/"
        },
        "id": "8oNfoWACHvcN",
        "outputId": "3fa8992f-211e-456a-b4d5-2a5dfcd7415e"
      },
      "execution_count": 86,
      "outputs": [
        {
          "output_type": "execute_result",
          "data": {
            "text/plain": [
              "False"
            ]
          },
          "metadata": {},
          "execution_count": 86
        }
      ]
    },
    {
      "cell_type": "code",
      "source": [
        "issubclass(Manager,Employee)"
      ],
      "metadata": {
        "colab": {
          "base_uri": "https://localhost:8080/"
        },
        "id": "lZ8EXqtDHvWy",
        "outputId": "8cc6e6bb-22f0-45bf-cd23-a942846bee9b"
      },
      "execution_count": 87,
      "outputs": [
        {
          "output_type": "execute_result",
          "data": {
            "text/plain": [
              "True"
            ]
          },
          "metadata": {},
          "execution_count": 87
        }
      ]
    },
    {
      "cell_type": "code",
      "source": [
        "repr(mgr_1),str(mgr_1)"
      ],
      "metadata": {
        "colab": {
          "base_uri": "https://localhost:8080/"
        },
        "id": "QxutAUrtLZZH",
        "outputId": "7dfcf840-ad14-41c2-c898-b4794a276ecf"
      },
      "execution_count": 89,
      "outputs": [
        {
          "output_type": "execute_result",
          "data": {
            "text/plain": [
              "('<__main__.Manager object at 0x7ce7e74cf640>',\n",
              " '<__main__.Manager object at 0x7ce7e74cf640>')"
            ]
          },
          "metadata": {},
          "execution_count": 89
        }
      ]
    },
    {
      "cell_type": "markdown",
      "source": [
        "## 5. Special (Magic/Dunder) Methods\n",
        "\n",
        "Double underscore is called dunder.\n",
        "\n",
        "It is called implicitely"
      ],
      "metadata": {
        "id": "44DJHqAVHvTt"
      }
    },
    {
      "cell_type": "code",
      "source": [
        "class Employee:\n",
        "  raise_amount =1.04\n",
        "\n",
        "  def __init__(self,first,last,pay):\n",
        "    self.first = first\n",
        "    self.last = last\n",
        "    self.pay = pay\n",
        "    self.email = first+'.'+last+'@company.com'\n",
        "\n",
        "  def fullname(self):\n",
        "    return '{} {}'.format(self.first,self.last)\n",
        "\n",
        "  def apply_raise(self):\n",
        "    self.pay = int(self.pay*self.raise_amount)\n",
        "\n",
        "  def __repr__(self):\n",
        "    return \"Employee('{}', '{}', '{}')\".format(self.first,self.last,self.pay)\n",
        "\n",
        "  def __str__(self):\n",
        "    return '{} - {}'.format(self.fullname(),self.email)\n",
        "\n",
        "  def __add__(self,other):\n",
        "    return self.pay+other.pay\n",
        "\n",
        "  def __len__(self):\n",
        "    return len(self.fullname())\n",
        "\n",
        "#create instances of the class employee\n",
        "emp_1 = Employee('Yogesh','Rai',40000)\n",
        "emp_2 = Employee('Test','user',42354)"
      ],
      "metadata": {
        "id": "vy09a8t-JGMf"
      },
      "execution_count": 98,
      "outputs": []
    },
    {
      "cell_type": "code",
      "source": [
        "emp_1.__repr__(),emp_1.__str__()"
      ],
      "metadata": {
        "colab": {
          "base_uri": "https://localhost:8080/"
        },
        "id": "Z9GH319mJGEg",
        "outputId": "01800827-b57b-4858-925c-a99c82da01df"
      },
      "execution_count": 93,
      "outputs": [
        {
          "output_type": "execute_result",
          "data": {
            "text/plain": [
              "(\"Employee('Yogesh', 'Rai', '40000')\", 'Yogesh Rai - Yogesh.Rai@company.com')"
            ]
          },
          "metadata": {},
          "execution_count": 93
        }
      ]
    },
    {
      "cell_type": "code",
      "source": [
        "print(emp_1+emp_2)"
      ],
      "metadata": {
        "colab": {
          "base_uri": "https://localhost:8080/"
        },
        "id": "DivwTpIEJGCJ",
        "outputId": "838d809a-200e-4d51-a9f7-91dadc799245"
      },
      "execution_count": 95,
      "outputs": [
        {
          "output_type": "stream",
          "name": "stdout",
          "text": [
            "82354\n"
          ]
        }
      ]
    },
    {
      "cell_type": "code",
      "source": [
        "print(len(emp_1))"
      ],
      "metadata": {
        "colab": {
          "base_uri": "https://localhost:8080/"
        },
        "id": "m153MPBzJF_J",
        "outputId": "9077a5b4-20a8-431c-bc43-2ef18d8859c3"
      },
      "execution_count": 99,
      "outputs": [
        {
          "output_type": "stream",
          "name": "stdout",
          "text": [
            "10\n"
          ]
        }
      ]
    },
    {
      "cell_type": "markdown",
      "source": [
        "## 6. Property Decorators - Getters, Setters, and Deleters"
      ],
      "metadata": {
        "id": "jdBCZW6lJF8G"
      }
    },
    {
      "cell_type": "code",
      "source": [
        "class Employee:\n",
        "  raise_amount =1.04\n",
        "\n",
        "  def __init__(self,first,last,pay):\n",
        "    self.first = first\n",
        "    self.last = last\n",
        "    self.pay = pay\n",
        "    self.email = first+'.'+last+'@company.com'\n",
        "\n",
        "  def apply_raise(self):\n",
        "    self.pay = int(self.pay*self.raise_amount)\n",
        "\n",
        "  #getter\n",
        "  @property\n",
        "  def fullname(self):\n",
        "    return '{} {}'.format(self.first,self.last)\n",
        "  @fullname.setter\n",
        "  def fullname(self, name):\n",
        "    self.first, self.last = name.split(' ')\n",
        "\n",
        "  @fullname.deleter\n",
        "  def fullname(self):\n",
        "    print('Delete name!')\n",
        "    self.first = None\n",
        "    self.last = None"
      ],
      "metadata": {
        "id": "yH2yHmynJF3O"
      },
      "execution_count": 118,
      "outputs": []
    },
    {
      "cell_type": "code",
      "source": [
        "emp_1 = Employee('Yogesh','Rai',40000)\n",
        "emp_2 = Employee('Test','user',42354)"
      ],
      "metadata": {
        "id": "0csFzTF2JF0P"
      },
      "execution_count": 119,
      "outputs": []
    },
    {
      "cell_type": "code",
      "source": [
        "emp_1.fullname"
      ],
      "metadata": {
        "colab": {
          "base_uri": "https://localhost:8080/",
          "height": 35
        },
        "id": "nCW6YF4glEXu",
        "outputId": "33d97f7a-5158-4ff4-de63-c8c650109cc3"
      },
      "execution_count": 120,
      "outputs": [
        {
          "output_type": "execute_result",
          "data": {
            "text/plain": [
              "'Yogesh Rai'"
            ],
            "application/vnd.google.colaboratory.intrinsic+json": {
              "type": "string"
            }
          },
          "metadata": {},
          "execution_count": 120
        }
      ]
    },
    {
      "cell_type": "code",
      "source": [
        "emp_1.fullname='Sanjay Gurung'\n",
        "emp_1.fullname"
      ],
      "metadata": {
        "colab": {
          "base_uri": "https://localhost:8080/",
          "height": 35
        },
        "id": "OseBgnfxlGUt",
        "outputId": "6265e476-89b6-4fe6-c651-c4d054a3a8d5"
      },
      "execution_count": 121,
      "outputs": [
        {
          "output_type": "execute_result",
          "data": {
            "text/plain": [
              "'Sanjay Gurung'"
            ],
            "application/vnd.google.colaboratory.intrinsic+json": {
              "type": "string"
            }
          },
          "metadata": {},
          "execution_count": 121
        }
      ]
    },
    {
      "cell_type": "code",
      "source": [
        "del emp_1.fullname\n",
        "emp_1.fullname"
      ],
      "metadata": {
        "colab": {
          "base_uri": "https://localhost:8080/",
          "height": 53
        },
        "id": "wDbIs_QXmyfV",
        "outputId": "bdea87bc-f6c6-4b4f-be07-98299fac8895"
      },
      "execution_count": 122,
      "outputs": [
        {
          "output_type": "stream",
          "name": "stdout",
          "text": [
            "Delete name!\n"
          ]
        },
        {
          "output_type": "execute_result",
          "data": {
            "text/plain": [
              "'None None'"
            ],
            "application/vnd.google.colaboratory.intrinsic+json": {
              "type": "string"
            }
          },
          "metadata": {},
          "execution_count": 122
        }
      ]
    }
  ]
}